{
 "cells": [
  {
   "cell_type": "code",
   "execution_count": 5,
   "id": "b0f32546",
   "metadata": {},
   "outputs": [
    {
     "name": "stdout",
     "output_type": "stream",
     "text": [
      "flattened list: [1, 2, 3, 4, 5, 6]\n"
     ]
    }
   ],
   "source": [
    "## FLATTEN A NESTED LIST \n",
    "\n",
    "nested = [[1, 2], [3, 4], [5, 6]]\n",
    "len1 = len(nested)\n",
    "\n",
    "flattened_list = []\n",
    "for i in range(0,len1):\n",
    "    for j in range(0,len(nested[i])):\n",
    "        flattened_list.append(nested[i][j])\n",
    "\n",
    "print(f\"flattened list: {flattened_list}\")"
   ]
  },
  {
   "cell_type": "code",
   "execution_count": null,
   "id": "02e99369",
   "metadata": {},
   "outputs": [],
   "source": []
  }
 ],
 "metadata": {
  "kernelspec": {
   "display_name": "Python 3",
   "language": "python",
   "name": "python3"
  },
  "language_info": {
   "codemirror_mode": {
    "name": "ipython",
    "version": 3
   },
   "file_extension": ".py",
   "mimetype": "text/x-python",
   "name": "python",
   "nbconvert_exporter": "python",
   "pygments_lexer": "ipython3",
   "version": "3.13.7"
  }
 },
 "nbformat": 4,
 "nbformat_minor": 5
}
