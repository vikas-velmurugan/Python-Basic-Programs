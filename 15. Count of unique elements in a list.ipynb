{
 "cells": [
  {
   "cell_type": "code",
   "execution_count": 5,
   "id": "8c4c22fe",
   "metadata": {},
   "outputs": [
    {
     "name": "stdout",
     "output_type": "stream",
     "text": [
      "Number of unique elements in the given array is: 9.\n"
     ]
    }
   ],
   "source": [
    "## FIND THE COUNT OF UNIQUE ELEMENTS IN A GIVEN ARRAY\n",
    "\n",
    "nums = [1,2,3,4,1,4,3,6,7,6,8,8,9,10]\n",
    "\n",
    "unique_elements = set(nums)\n",
    "count_of_unique_elements = len(unique_elements)\n",
    "\n",
    "print(f\"Number of unique elements in the given array is: {count_of_unique_elements}.\")"
   ]
  },
  {
   "cell_type": "code",
   "execution_count": null,
   "id": "83cba753",
   "metadata": {},
   "outputs": [],
   "source": [
    "\n"
   ]
  }
 ],
 "metadata": {
  "kernelspec": {
   "display_name": "Python 3",
   "language": "python",
   "name": "python3"
  },
  "language_info": {
   "codemirror_mode": {
    "name": "ipython",
    "version": 3
   },
   "file_extension": ".py",
   "mimetype": "text/x-python",
   "name": "python",
   "nbconvert_exporter": "python",
   "pygments_lexer": "ipython3",
   "version": "3.13.7"
  }
 },
 "nbformat": 4,
 "nbformat_minor": 5
}
