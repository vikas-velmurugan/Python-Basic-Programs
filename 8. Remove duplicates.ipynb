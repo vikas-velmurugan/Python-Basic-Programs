{
 "cells": [
  {
   "cell_type": "code",
   "execution_count": 3,
   "id": "fb8a5efc",
   "metadata": {},
   "outputs": [
    {
     "name": "stdout",
     "output_type": "stream",
     "text": [
      "[1, 3, 5]\n"
     ]
    }
   ],
   "source": [
    "# Remove duplicates without using Sets\n",
    "\n",
    "items = [1, 2, 2, 3, 4, 4, 5]\n",
    "list_without_duplicates = []\n",
    "\n",
    "for i in items:\n",
    "    if items.count(i) == 1:\n",
    "        list_without_duplicates.append(i)\n",
    "\n",
    "\n",
    "print(list_without_duplicates)"
   ]
  },
  {
   "cell_type": "code",
   "execution_count": null,
   "id": "ee246dc7",
   "metadata": {},
   "outputs": [],
   "source": []
  }
 ],
 "metadata": {
  "kernelspec": {
   "display_name": "Python 3",
   "language": "python",
   "name": "python3"
  },
  "language_info": {
   "codemirror_mode": {
    "name": "ipython",
    "version": 3
   },
   "file_extension": ".py",
   "mimetype": "text/x-python",
   "name": "python",
   "nbconvert_exporter": "python",
   "pygments_lexer": "ipython3",
   "version": "3.13.7"
  }
 },
 "nbformat": 4,
 "nbformat_minor": 5
}
