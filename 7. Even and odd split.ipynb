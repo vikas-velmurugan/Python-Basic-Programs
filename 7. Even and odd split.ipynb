{
 "cells": [
  {
   "cell_type": "code",
   "execution_count": 1,
   "id": "56050cf5",
   "metadata": {},
   "outputs": [
    {
     "name": "stdout",
     "output_type": "stream",
     "text": [
      "The even numbers in the input list are : [2, 4, 6, 8, 10].\n",
      "The odd numbers in the input list are : [1, 3, 5, 7, 9].\n"
     ]
    }
   ],
   "source": [
    "nums = [1, 2, 3, 4, 5, 6, 7, 8, 9, 10]\n",
    "even_list = []\n",
    "odd_list = []\n",
    "\n",
    "for i in nums:\n",
    "    if i%2==0:\n",
    "        even_list.append(i)\n",
    "\n",
    "    else:\n",
    "        odd_list.append(i)\n",
    "\n",
    "print(f\"The even numbers in the input list are : {even_list}.\")\n",
    "print(f\"The odd numbers in the input list are : {odd_list}.\")\n",
    "\n",
    "\n"
   ]
  },
  {
   "cell_type": "code",
   "execution_count": null,
   "id": "120163f9",
   "metadata": {},
   "outputs": [],
   "source": []
  }
 ],
 "metadata": {
  "kernelspec": {
   "display_name": "Python 3",
   "language": "python",
   "name": "python3"
  },
  "language_info": {
   "codemirror_mode": {
    "name": "ipython",
    "version": 3
   },
   "file_extension": ".py",
   "mimetype": "text/x-python",
   "name": "python",
   "nbconvert_exporter": "python",
   "pygments_lexer": "ipython3",
   "version": "3.13.7"
  }
 },
 "nbformat": 4,
 "nbformat_minor": 5
}
