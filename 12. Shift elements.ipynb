{
 "cells": [
  {
   "cell_type": "code",
   "execution_count": 3,
   "id": "db82ff37",
   "metadata": {},
   "outputs": [
    {
     "name": "stdout",
     "output_type": "stream",
     "text": [
      "[4, 1, 2, 3]\n"
     ]
    }
   ],
   "source": [
    "'''\n",
    "Write a program that rotates a list by 1 position to the right.\n",
    "\n",
    "Input: [1, 2, 3, 4]\n",
    "Output: [4, 1, 2, 3]\n",
    "\n",
    "'''\n",
    "nums =  [1, 2, 3, 4]\n",
    "last_element = nums[-1]\n",
    "new_nums = []\n",
    "new_nums.append(last_element)\n",
    "\n",
    "for i in range(0, len(nums)-1):\n",
    "    new_nums.append(nums[i])\n",
    "\n",
    "print(new_nums)"
   ]
  },
  {
   "cell_type": "code",
   "execution_count": null,
   "id": "18865bc8",
   "metadata": {},
   "outputs": [
    {
     "name": "stdout",
     "output_type": "stream",
     "text": [
      "[4, 1, 2, 3]\n"
     ]
    }
   ],
   "source": [
    "## ALTERNATE METHODS\n",
    "\n",
    "# USING SLICING\n",
    "\n",
    "nums = [1, 2, 3, 4]\n",
    "rotated = [nums[-1]] + nums[:-1]\n",
    "print(rotated)  \n"
   ]
  },
  {
   "cell_type": "code",
   "execution_count": 5,
   "id": "9721b3ed",
   "metadata": {},
   "outputs": [
    {
     "name": "stdout",
     "output_type": "stream",
     "text": [
      "[4, 1, 2, 3]\n"
     ]
    }
   ],
   "source": [
    "# USING POP\n",
    "\n",
    "nums = [1, 2, 3, 4]\n",
    "nums.insert(0, nums.pop())\n",
    "print(nums)"
   ]
  },
  {
   "cell_type": "code",
   "execution_count": null,
   "id": "ee5184f9",
   "metadata": {},
   "outputs": [],
   "source": []
  }
 ],
 "metadata": {
  "kernelspec": {
   "display_name": "Python 3",
   "language": "python",
   "name": "python3"
  },
  "language_info": {
   "codemirror_mode": {
    "name": "ipython",
    "version": 3
   },
   "file_extension": ".py",
   "mimetype": "text/x-python",
   "name": "python",
   "nbconvert_exporter": "python",
   "pygments_lexer": "ipython3",
   "version": "3.13.7"
  }
 },
 "nbformat": 4,
 "nbformat_minor": 5
}
