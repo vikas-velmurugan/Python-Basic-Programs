{
 "cells": [
  {
   "cell_type": "code",
   "execution_count": 1,
   "id": "fd92646e",
   "metadata": {},
   "outputs": [
    {
     "name": "stdout",
     "output_type": "stream",
     "text": [
      "l.messi@xyz.com, c.ronaldo@xyz.com, v.karavas@xyz.com\n"
     ]
    }
   ],
   "source": [
    "# Take input of comma-separated names/emails\n",
    "name_list = input(\"Enter the names or emails: \").split(',')\n",
    "\n",
    "email_ids = []\n",
    "for item in name_list:\n",
    "    item = item.strip()\n",
    "    if \"@\" in item:  \n",
    "        # Already an email, keep as is\n",
    "        email = item.lower()\n",
    "    else:\n",
    "        # Generate email from name\n",
    "        parts = item.split()\n",
    "        first_initial = parts[0][0]\n",
    "        last_name = parts[-1]\n",
    "        email = f\"{first_initial.lower()}.{last_name.lower()}@xyz.com\"\n",
    "    \n",
    "    # Add only if not already present\n",
    "    if email not in email_ids:\n",
    "        email_ids.append(email)\n",
    "\n",
    "# Print as a comma-separated string\n",
    "print(\", \".join(email_ids))\n"
   ]
  },
  {
   "cell_type": "code",
   "execution_count": null,
   "id": "a96e85a0",
   "metadata": {},
   "outputs": [],
   "source": []
  }
 ],
 "metadata": {
  "kernelspec": {
   "display_name": "Python 3",
   "language": "python",
   "name": "python3"
  },
  "language_info": {
   "codemirror_mode": {
    "name": "ipython",
    "version": 3
   },
   "file_extension": ".py",
   "mimetype": "text/x-python",
   "name": "python",
   "nbconvert_exporter": "python",
   "pygments_lexer": "ipython3",
   "version": "3.13.7"
  }
 },
 "nbformat": 4,
 "nbformat_minor": 5
}
