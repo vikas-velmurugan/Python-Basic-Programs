{
 "cells": [
  {
   "cell_type": "code",
   "execution_count": 4,
   "id": "27cdcdc2",
   "metadata": {},
   "outputs": [
    {
     "name": "stdout",
     "output_type": "stream",
     "text": [
      "The common elements in the two lists are : [4, 5]\n"
     ]
    }
   ],
   "source": [
    "## WRITE A PROGRAM TO FIND THE COMMON ELEMENTS BETWEEN TWO LISTS\n",
    "\n",
    "a = [1, 2, 3, 4, 5]\n",
    "b = [4, 5, 6, 7, 8]\n",
    "\n",
    "common_elements = []\n",
    "\n",
    "for i in a:\n",
    "    if i in b:\n",
    "        common_elements.append(i)\n",
    "\n",
    "print(f\"The common elements in the two lists are : {common_elements}\")"
   ]
  },
  {
   "cell_type": "code",
   "execution_count": null,
   "id": "6e5d80c7",
   "metadata": {},
   "outputs": [
    {
     "name": "stdout",
     "output_type": "stream",
     "text": [
      "The common elements in the two lists are : [4, 5]\n"
     ]
    }
   ],
   "source": [
    "## SOLUTION USING LIST COMPREHENSIONS\n",
    "\n",
    "a = [1, 2, 3, 4, 5]\n",
    "b = [4, 5, 6, 7, 8]\n",
    "\n",
    "common_elements=[i for i in a if i in b]\n",
    "\n",
    "print(f\"The common elements in the two lists are : {common_elements}\")"
   ]
  },
  {
   "cell_type": "code",
   "execution_count": null,
   "id": "e33a419d",
   "metadata": {},
   "outputs": [],
   "source": []
  }
 ],
 "metadata": {
  "kernelspec": {
   "display_name": "Python 3",
   "language": "python",
   "name": "python3"
  },
  "language_info": {
   "codemirror_mode": {
    "name": "ipython",
    "version": 3
   },
   "file_extension": ".py",
   "mimetype": "text/x-python",
   "name": "python",
   "nbconvert_exporter": "python",
   "pygments_lexer": "ipython3",
   "version": "3.13.7"
  }
 },
 "nbformat": 4,
 "nbformat_minor": 5
}
