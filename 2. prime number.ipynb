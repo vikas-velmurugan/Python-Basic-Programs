{
 "cells": [
  {
   "cell_type": "code",
   "execution_count": 10,
   "id": "2a0dfe2a",
   "metadata": {},
   "outputs": [
    {
     "name": "stdout",
     "output_type": "stream",
     "text": [
      "189 is not a prime number as it is divisible by 3.\n"
     ]
    }
   ],
   "source": [
    "num = int(input('Enter a number to check for prime or not:'))\n",
    "\n",
    "if num > 1:\n",
    "    for i in range(2, num):\n",
    "        if num%i==0:\n",
    "            print(f\"{num} is not a prime number as it is divisible by {i}.\")\n",
    "            break\n",
    "\n",
    "    else:\n",
    "        print(f\"{num} is a Prime number.\")\n",
    "\n",
    "else:\n",
    "    print(\"Wrong input. Please enter a number greater than 1.\")"
   ]
  },
  {
   "cell_type": "code",
   "execution_count": null,
   "id": "2826182f",
   "metadata": {},
   "outputs": [],
   "source": []
  }
 ],
 "metadata": {
  "kernelspec": {
   "display_name": "Python 3",
   "language": "python",
   "name": "python3"
  },
  "language_info": {
   "codemirror_mode": {
    "name": "ipython",
    "version": 3
   },
   "file_extension": ".py",
   "mimetype": "text/x-python",
   "name": "python",
   "nbconvert_exporter": "python",
   "pygments_lexer": "ipython3",
   "version": "3.13.7"
  }
 },
 "nbformat": 4,
 "nbformat_minor": 5
}
