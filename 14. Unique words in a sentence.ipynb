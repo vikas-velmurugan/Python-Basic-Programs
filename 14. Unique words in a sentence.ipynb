{
 "cells": [
  {
   "cell_type": "code",
   "execution_count": 4,
   "id": "80b14e5f",
   "metadata": {},
   "outputs": [
    {
     "name": "stdout",
     "output_type": "stream",
     "text": [
      "The unique words in the given sentence are : {'is', 'as', 'official', 'who', 'but', 'someone', 'was', 'cup', 'all', 'him', 'game', 'compared', 'just', 'so', 'much', 'made', 'time.', 'watches', 'to', 'Cristiano', 'better.', 'of', 'The', 'the', 'it', 'debate', 'world', 'can', 'see', 'Messi', 'a', 'win', 'player', 'Ronaldo', 'greatest', 'forced'}\n",
      "The total number of words in the sentence are: 47\n",
      "The number of unique words in the given sentence are: 36\n"
     ]
    }
   ],
   "source": [
    "## GIVEN A SENTENCE , PRINT ALL THE UNIQUE WORDS IN IT\n",
    "\n",
    "sentence = \"Messi is the official greatest player of all time. Cristiano Ronaldo was compared to him but it was just a forced debate as someone who watches the game can see Messi is so much better. The world cup win made him the official greatest of all time.\"\n",
    "\n",
    "words = sentence.split()\n",
    "\n",
    "print(f\"The unique words in the given sentence are : {set(words)}\")\n",
    "print(f\"The total number of words in the sentence are: {len(words)}\")\n",
    "print(f\"The number of unique words in the given sentence are: {len(set(words))}\")"
   ]
  },
  {
   "cell_type": "code",
   "execution_count": null,
   "id": "7250ac78",
   "metadata": {},
   "outputs": [],
   "source": []
  }
 ],
 "metadata": {
  "kernelspec": {
   "display_name": "Python 3",
   "language": "python",
   "name": "python3"
  },
  "language_info": {
   "codemirror_mode": {
    "name": "ipython",
    "version": 3
   },
   "file_extension": ".py",
   "mimetype": "text/x-python",
   "name": "python",
   "nbconvert_exporter": "python",
   "pygments_lexer": "ipython3",
   "version": "3.13.7"
  }
 },
 "nbformat": 4,
 "nbformat_minor": 5
}
