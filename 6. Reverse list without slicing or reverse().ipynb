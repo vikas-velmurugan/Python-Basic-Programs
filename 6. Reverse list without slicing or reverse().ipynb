{
 "cells": [
  {
   "cell_type": "code",
   "execution_count": null,
   "id": "ffaf333f",
   "metadata": {},
   "outputs": [
    {
     "name": "stdout",
     "output_type": "stream",
     "text": [
      "[5, 4, 3, 2, 1]\n"
     ]
    }
   ],
   "source": [
    "## REVERSE A LIST WITHOUT USING SLICING AND REVERSE()\n",
    "\n",
    "def reverse_list(lst):\n",
    "    left, right = 0, len(lst) - 1\n",
    "    while left < right:\n",
    "        # swap elements\n",
    "        lst[left], lst[right] = lst[right], lst[left]\n",
    "        left += 1\n",
    "        right -= 1\n",
    "    return lst\n",
    "\n",
    "# Example\n",
    "print(reverse_list([1, 2, 3, 4, 5]))  \n",
    "\n",
    "\n",
    "\n"
   ]
  },
  {
   "cell_type": "code",
   "execution_count": null,
   "id": "9300dadd",
   "metadata": {},
   "outputs": [],
   "source": []
  }
 ],
 "metadata": {
  "kernelspec": {
   "display_name": "Python 3",
   "language": "python",
   "name": "python3"
  },
  "language_info": {
   "codemirror_mode": {
    "name": "ipython",
    "version": 3
   },
   "file_extension": ".py",
   "mimetype": "text/x-python",
   "name": "python",
   "nbconvert_exporter": "python",
   "pygments_lexer": "ipython3",
   "version": "3.13.7"
  }
 },
 "nbformat": 4,
 "nbformat_minor": 5
}
