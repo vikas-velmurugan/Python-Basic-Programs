{
 "cells": [
  {
   "cell_type": "code",
   "execution_count": null,
   "id": "bf82b41d",
   "metadata": {},
   "outputs": [
    {
     "name": "stdout",
     "output_type": "stream",
     "text": [
      "[4, 5, 1, 2, 3]\n"
     ]
    }
   ],
   "source": [
    "nums = [1, 2, 3, 4, 5]\n",
    "k = int(input('Enter the number of elements you want to shift by:'))\n",
    "\n",
    "for _ in range(k):\n",
    "    nums.insert(0, nums.pop())\n",
    "\n",
    "print(nums)   \n"
   ]
  },
  {
   "cell_type": "code",
   "execution_count": null,
   "id": "d7133eea",
   "metadata": {},
   "outputs": [],
   "source": []
  }
 ],
 "metadata": {
  "kernelspec": {
   "display_name": "Python 3",
   "language": "python",
   "name": "python3"
  },
  "language_info": {
   "codemirror_mode": {
    "name": "ipython",
    "version": 3
   },
   "file_extension": ".py",
   "mimetype": "text/x-python",
   "name": "python",
   "nbconvert_exporter": "python",
   "pygments_lexer": "ipython3",
   "version": "3.13.7"
  }
 },
 "nbformat": 4,
 "nbformat_minor": 5
}
